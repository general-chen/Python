{
 "cells": [
  {
   "cell_type": "markdown",
   "id": "978f2871-9a06-4bd5-8ea5-1c40fcf727dc",
   "metadata": {},
   "source": [
    "# This code is used for reading .mat from Matlab"
   ]
  },
  {
   "cell_type": "code",
   "execution_count": 1,
   "id": "9e115faf-e710-462b-8d79-4477123db756",
   "metadata": {},
   "outputs": [],
   "source": [
    "import h5py"
   ]
  },
  {
   "cell_type": "code",
   "execution_count": 2,
   "id": "78ced838-54e8-4a0b-96c2-4ef7d59cc967",
   "metadata": {},
   "outputs": [
    {
     "name": "stdout",
     "output_type": "stream",
     "text": [
      "CD\n",
      "CL\n",
      "CP\n"
     ]
    }
   ],
   "source": [
    "with h5py.File('bessel.mat') as f:\n",
    "    for key in f:\n",
    "        print(key)"
   ]
  },
  {
   "cell_type": "code",
   "execution_count": 7,
   "id": "18c742c1-2a5e-44bc-b376-2177c151ae73",
   "metadata": {},
   "outputs": [],
   "source": [
    "with h5py.File('bessel.mat') as f:\n",
    "    cp = f['CP'][:].T[:,0]\n",
    "    cl = f['CL'][:].T[:,0]"
   ]
  },
  {
   "cell_type": "code",
   "execution_count": 8,
   "id": "14291f10-9f93-48de-86bb-e8bbae5b7c91",
   "metadata": {},
   "outputs": [
    {
     "data": {
      "text/plain": [
       "(2500,)"
      ]
     },
     "execution_count": 8,
     "metadata": {},
     "output_type": "execute_result"
    }
   ],
   "source": [
    "cp.shape"
   ]
  }
 ],
 "metadata": {
  "kernelspec": {
   "display_name": "Python 3 (ipykernel)",
   "language": "python",
   "name": "python3"
  },
  "language_info": {
   "codemirror_mode": {
    "name": "ipython",
    "version": 3
   },
   "file_extension": ".py",
   "mimetype": "text/x-python",
   "name": "python",
   "nbconvert_exporter": "python",
   "pygments_lexer": "ipython3",
   "version": "3.9.12"
  }
 },
 "nbformat": 4,
 "nbformat_minor": 5
}
